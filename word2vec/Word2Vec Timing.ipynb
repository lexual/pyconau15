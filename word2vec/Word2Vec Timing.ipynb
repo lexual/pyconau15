{
 "cells": [
  {
   "cell_type": "code",
   "execution_count": 1,
   "metadata": {
    "collapsed": false
   },
   "outputs": [
    {
     "name": "stdout",
     "output_type": "stream",
     "text": [
      "1 loops, best of 3: 3min 42s per loop\n"
     ]
    }
   ],
   "source": [
    "%%timeit\n",
    "import word2vec\n",
    "# https://github.com/danielfrg/word2vec\n",
    "\n",
    "word2vec.word2phrase('../text8', '../text8-phrases', verbose=False)\n",
    "word2vec.word2vec('../text8-phrases', '../text8.bin', size=100, verbose=False)\n",
    "word2vec.word2clusters('../text8', '../text8-clusters.txt', 100, verbose=False)\n",
    "model = word2vec.load('../text8.bin')"
   ]
  },
  {
   "cell_type": "code",
   "execution_count": null,
   "metadata": {
    "collapsed": true
   },
   "outputs": [],
   "source": []
  }
 ],
 "metadata": {
  "kernelspec": {
   "display_name": "Python 3",
   "language": "python",
   "name": "python3"
  },
  "language_info": {
   "codemirror_mode": {
    "name": "ipython",
    "version": 3
   },
   "file_extension": ".py",
   "mimetype": "text/x-python",
   "name": "python",
   "nbconvert_exporter": "python",
   "pygments_lexer": "ipython3",
   "version": "3.4.3"
  }
 },
 "nbformat": 4,
 "nbformat_minor": 0
}
