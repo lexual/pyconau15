{
 "cells": [
  {
   "cell_type": "code",
   "execution_count": 1,
   "metadata": {
    "collapsed": false
   },
   "outputs": [],
   "source": [
    "import json\n",
    "import urllib.request\n",
    "import random\n",
    "import PIL\n",
    "import word2vec\n",
    "import sys\n",
    "import memegenerator\n",
    "import twitter_credentials\n",
    "import scipy.ndimage"
   ]
  },
  {
   "cell_type": "code",
   "execution_count": 2,
   "metadata": {
    "collapsed": false
   },
   "outputs": [],
   "source": [
    "model = word2vec.load('../text8.bin')"
   ]
  },
  {
   "cell_type": "code",
   "execution_count": 3,
   "metadata": {
    "collapsed": true
   },
   "outputs": [],
   "source": [
    "consumer_key = twitter_credentials.consumer_key\n",
    "consumer_secret = twitter_credentials.consumer_secret\n",
    "access_token = twitter_credentials.access_token\n",
    "access_token_secret = twitter_credentials.access_token_secret"
   ]
  },
  {
   "cell_type": "code",
   "execution_count": 4,
   "metadata": {
    "collapsed": false
   },
   "outputs": [
    {
     "name": "stdout",
     "output_type": "stream",
     "text": [
      "Tenn Leeuwenburg\n"
     ]
    }
   ],
   "source": [
    "import tweepy\n",
    "\n",
    "# == OAuth Authentication ==\n",
    "#\n",
    "# This mode of authentication is the new preferred way\n",
    "# of authenticating with Twitter.\n",
    "\n",
    "auth = tweepy.OAuthHandler(consumer_key, consumer_secret)\n",
    "auth.secure = True\n",
    "auth.set_access_token(access_token, access_token_secret)\n",
    "\n",
    "api = tweepy.API(auth)\n",
    "\n",
    "# If the authentication was successful, you should\n",
    "# see the name of the account print out\n",
    "print(api.me().name)\n",
    "\n",
    "# If the application settings are set for \"Read and Write\" then\n",
    "# this line should tweet out the message to your account's\n",
    "# timeline. The \"Read and Write\" setting is on https://dev.twitter.com/apps\n",
    "# api.update_status(status='Updating using OAuth authentication via Tweepy!')"
   ]
  },
  {
   "cell_type": "code",
   "execution_count": 5,
   "metadata": {
    "collapsed": false
   },
   "outputs": [],
   "source": [
    "public_tweets = api.home_timeline()"
   ]
  },
  {
   "cell_type": "code",
   "execution_count": 6,
   "metadata": {
    "collapsed": false
   },
   "outputs": [],
   "source": [
    "valid_tweets = []\n",
    "best_tweets = []\n",
    "for t in public_tweets:\n",
    "    words = t.text.split()\n",
    "    words = [w for w in words if w in model.vocab]\n",
    "    words2 = [w for w in words if len(w) > 3]\n",
    "    if len(words) < 3:\n",
    "        continue\n",
    "        \n",
    "    if len(words2) >= 3:\n",
    "        best_tweets.append(t)\n",
    "        \n",
    "    valid_tweets.append(t)\n",
    "\n",
    "tweet = random.choice(public_tweets)\n",
    "if best_tweets:\n",
    "    tweet = random.choice(best_tweets)\n"
   ]
  },
  {
   "cell_type": "code",
   "execution_count": 7,
   "metadata": {
    "collapsed": false
   },
   "outputs": [],
   "source": [
    "words = tweet.text.split()\n",
    "words2 = [w for w in words if len(w) > 3]\n",
    "words2 = [w for w in words2 if w in model.vocab]\n",
    "\n",
    "ws = []\n",
    "while(len(ws) <= 2):\n",
    "    \n",
    "    using = words\n",
    "    if words2:\n",
    "        using = words2\n",
    "    \n",
    "    w = random.choice(using)\n",
    "    using.pop(using.index(w))\n",
    "    if w in model.vocab:\n",
    "        ws.append(w)\n",
    "        \n"
   ]
  },
  {
   "cell_type": "code",
   "execution_count": 8,
   "metadata": {
    "collapsed": false
   },
   "outputs": [],
   "source": [
    "indexes, metrics = model.analogy(pos=[ws[0], ws[1]], neg=[ws[2]], n=10)"
   ]
  },
  {
   "cell_type": "code",
   "execution_count": 9,
   "metadata": {
    "collapsed": false
   },
   "outputs": [],
   "source": [
    "ws.append(model.vocab[indexes][0])"
   ]
  },
  {
   "cell_type": "code",
   "execution_count": 10,
   "metadata": {
    "collapsed": true
   },
   "outputs": [],
   "source": [
    "if using:\n",
    "    ws.append(using[0])\n",
    "else:\n",
    "    ws.append(ws[0])"
   ]
  },
  {
   "cell_type": "code",
   "execution_count": 11,
   "metadata": {
    "collapsed": false
   },
   "outputs": [
    {
     "name": "stdout",
     "output_type": "stream",
     "text": [
      "RT @5LiD3: Furiosa and the gang!\n",
      "more resolutions can be found here\n",
      "http://t.co/7wGOK6K2Nc\n",
      "#MadMax #MadMaxFuryRoad http://t.co/sBlE3SHCvj\n",
      "['more', 'here', 'found', 'less', 'resolutions']\n"
     ]
    }
   ],
   "source": [
    "print(tweet.text)\n",
    "print(ws)"
   ]
  },
  {
   "cell_type": "code",
   "execution_count": 12,
   "metadata": {
    "collapsed": false
   },
   "outputs": [],
   "source": [
    "url_template = 'https://ajax.googleapis.com/ajax/services/search/images?v=1.0&q=%s&imgsz=xlarge&imgtype=photo&as_sitesearch=flickr.com'\n",
    "url = url_template % ws[4]\n",
    "result = urllib.request.urlopen(url)\n",
    "js = json.loads(result.read().decode())\n",
    "image_url = js['responseData']['results'][0]['unescapedUrl']\n",
    "\n",
    "filename = urllib.request.urlretrieve(image_url)[0]\n",
    "topString = '%s is to %s' % (ws[0], ws[1])\n",
    "bottomString = \"as %s is to %s\" % (ws[2], ws[3])\n",
    "memegenerator.make_meme(topString, bottomString, filename)"
   ]
  },
  {
   "cell_type": "code",
   "execution_count": 13,
   "metadata": {
    "collapsed": true
   },
   "outputs": [],
   "source": [
    "\n",
    "imagename = 'temp.png'\n",
    "%matplotlib inline"
   ]
  },
  {
   "cell_type": "code",
   "execution_count": 14,
   "metadata": {
    "collapsed": true
   },
   "outputs": [],
   "source": [
    "from PIL import Image\n",
    "im = Image.open(imagename)\n",
    "im.show()\n"
   ]
  },
  {
   "cell_type": "code",
   "execution_count": null,
   "metadata": {
    "collapsed": true
   },
   "outputs": [],
   "source": []
  },
  {
   "cell_type": "code",
   "execution_count": null,
   "metadata": {
    "collapsed": true
   },
   "outputs": [],
   "source": []
  }
 ],
 "metadata": {
  "kernelspec": {
   "display_name": "Python 3",
   "language": "python",
   "name": "python3"
  },
  "language_info": {
   "codemirror_mode": {
    "name": "ipython",
    "version": 3
   },
   "file_extension": ".py",
   "mimetype": "text/x-python",
   "name": "python",
   "nbconvert_exporter": "python",
   "pygments_lexer": "ipython3",
   "version": "3.4.3"
  }
 },
 "nbformat": 4,
 "nbformat_minor": 0
}
