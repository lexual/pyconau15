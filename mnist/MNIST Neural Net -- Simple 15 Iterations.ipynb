{
 "cells": [
  {
   "cell_type": "code",
   "execution_count": 4,
   "metadata": {
    "collapsed": false
   },
   "outputs": [],
   "source": [
    "\"\"\"\n",
    "mnist_loader\n",
    "~~~~~~~~~~~~\n",
    "\n",
    "A library to load the MNIST image data.  For details of the data\n",
    "structures that are returned, see the doc strings for ``load_data``\n",
    "and ``load_data_wrapper``.  In practice, ``load_data_wrapper`` is the\n",
    "function usually called by our neural network code.\n",
    "\"\"\"\n",
    "\n",
    "#### Libraries\n",
    "# Standard library\n",
    "import pickle as cPickle  # Sorry, workaround for Python 3.4\n",
    "import gzip\n",
    "\n",
    "# Third-party libraries\n",
    "import numpy as np\n",
    "\n",
    "def load_data():\n",
    "    f = gzip.open('mnist.pkl.gz', 'rb')\n",
    "    training_data, validation_data, test_data = cPickle.load(f, encoding='latin1')  # Make it work with Py3.x\n",
    "    f.close()\n",
    "    return (training_data, validation_data, test_data)\n",
    "\n",
    "def load_data_wrapper():\n",
    "    tr_d, va_d, te_d = load_data()\n",
    "    training_inputs = [np.reshape(x, (784, 1)) for x in tr_d[0]]\n",
    "    training_results = [vectorized_result(y) for y in tr_d[1]]\n",
    "    training_data = zip(training_inputs, training_results)\n",
    "    validation_inputs = [np.reshape(x, (784, 1)) for x in va_d[0]]\n",
    "    validation_data = zip(validation_inputs, va_d[1])\n",
    "    test_inputs = [np.reshape(x, (784, 1)) for x in te_d[0]]\n",
    "    test_data = zip(test_inputs, te_d[1])\n",
    "    return (training_data, validation_data, test_data)\n",
    "\n",
    "def vectorized_result(j):\n",
    "    e = np.zeros((10, 1))\n",
    "    e[j] = 1.0\n",
    "    return e\n"
   ]
  },
  {
   "cell_type": "code",
   "execution_count": 11,
   "metadata": {
    "collapsed": false
   },
   "outputs": [
    {
     "name": "stdout",
     "output_type": "stream",
     "text": [
      "CPU times: user 1.74 s, sys: 572 ms, total: 2.31 s\n",
      "Wall time: 2.31 s\n"
     ]
    }
   ],
   "source": [
    "%time training_data, validation_data, test_data = load_data_wrapper()"
   ]
  },
  {
   "cell_type": "code",
   "execution_count": 12,
   "metadata": {
    "collapsed": false
   },
   "outputs": [
    {
     "name": "stdout",
     "output_type": "stream",
     "text": [
      "CPU times: user 50.7 ms, sys: 35.4 ms, total: 86.1 ms\n",
      "Wall time: 87.7 ms\n"
     ]
    }
   ],
   "source": [
    "%time x, y = zip(*training_data)\n",
    "\n",
    "x = np.array(x)\n",
    "x = x.reshape(50000, 784)\n",
    "\n",
    "y = np.array(y)\n",
    "y = y.reshape(50000, 10)\n"
   ]
  },
  {
   "cell_type": "code",
   "execution_count": 13,
   "metadata": {
    "collapsed": true
   },
   "outputs": [],
   "source": [
    "import keras\n",
    "\n",
    "\n",
    "import numpy as np\n",
    "import pandas as pd\n",
    "\n",
    "from keras.models import Sequential\n",
    "from keras.layers.core import Dense, Dropout, Activation\n",
    "from keras.layers.normalization import BatchNormalization\n",
    "from keras.layers.advanced_activations import PReLU\n",
    "from keras.utils import np_utils, generic_utils\n",
    "\n",
    "from sklearn.preprocessing import StandardScaler\n",
    "\n",
    "np.random.seed(1337) # for reproducibility\n",
    "\n",
    "\n",
    "def preprocess_data(X, scaler=None):\n",
    "    if not scaler:\n",
    "        scaler = StandardScaler()\n",
    "        scaler.fit(X)\n",
    "    X = scaler.transform(X)\n",
    "    return X, scaler\n",
    "\n"
   ]
  },
  {
   "cell_type": "code",
   "execution_count": 14,
   "metadata": {
    "collapsed": false
   },
   "outputs": [
    {
     "name": "stdout",
     "output_type": "stream",
     "text": [
      "10 classes\n",
      "784 dims\n"
     ]
    }
   ],
   "source": [
    " \n",
    "nb_classes = y.shape[1]\n",
    "print(nb_classes, 'classes')\n",
    "\n",
    "dims = x.shape[1]\n",
    "print(dims, 'dims')\n",
    "\n",
    " \n"
   ]
  },
  {
   "cell_type": "code",
   "execution_count": 15,
   "metadata": {
    "collapsed": false
   },
   "outputs": [
    {
     "name": "stdout",
     "output_type": "stream",
     "text": [
      "Building model...\n",
      "Training model...\n",
      "Train on 42500 samples, validate on 7500 samples\n",
      "Epoch 0\n",
      "42500/42500 [==============================] - 18s - loss: 0.4334 - val. loss: 0.1989\n",
      "Epoch 1\n",
      "42500/42500 [==============================] - 20s - loss: 0.1457 - val. loss: 0.1462\n",
      "Epoch 2\n",
      "42500/42500 [==============================] - 20s - loss: 0.1018 - val. loss: 0.1260\n",
      "Epoch 3\n",
      "42500/42500 [==============================] - 18s - loss: 0.0792 - val. loss: 0.1129\n",
      "Epoch 4\n",
      "42500/42500 [==============================] - 18s - loss: 0.0636 - val. loss: 0.1016\n",
      "Epoch 5\n",
      "42500/42500 [==============================] - 18s - loss: 0.0523 - val. loss: 0.0984\n",
      "Epoch 6\n",
      "42500/42500 [==============================] - 18s - loss: 0.0453 - val. loss: 0.0940\n",
      "Epoch 7\n",
      "42500/42500 [==============================] - 19s - loss: 0.0393 - val. loss: 0.0914\n",
      "Epoch 8\n",
      "42500/42500 [==============================] - 18s - loss: 0.0340 - val. loss: 0.0912\n",
      "Epoch 9\n",
      "42500/42500 [==============================] - 19s - loss: 0.0309 - val. loss: 0.0892\n",
      "Epoch 10\n",
      "42500/42500 [==============================] - 17s - loss: 0.0252 - val. loss: 0.0868\n",
      "Epoch 11\n",
      "42500/42500 [==============================] - 31s - loss: 0.0220 - val. loss: 0.0859\n",
      "Epoch 12\n",
      "42500/42500 [==============================] - 33s - loss: 0.0234 - val. loss: 0.0854\n",
      "Epoch 13\n",
      "42500/42500 [==============================] - 30s - loss: 0.0202 - val. loss: 0.0846\n",
      "Epoch 14\n",
      "42500/42500 [==============================] - 29s - loss: 0.0189 - val. loss: 0.0829\n",
      "CPU times: user 6min 52s, sys: 34.6 s, total: 7min 27s\n",
      "Wall time: 5min 33s\n"
     ]
    },
    {
     "data": {
      "text/plain": [
       "<keras.callbacks.History at 0x11c68c0f0>"
      ]
     },
     "execution_count": 15,
     "metadata": {},
     "output_type": "execute_result"
    }
   ],
   "source": [
    "\n",
    "print(\"Building model...\")\n",
    "\n",
    "LAYER_ONE_SIZE = 1024\n",
    "ITERATIONS = 15\n",
    "\n",
    "model = Sequential()\n",
    "model.add(Dense(dims, LAYER_ONE_SIZE, init='glorot_uniform'))\n",
    "model.add(PReLU((LAYER_ONE_SIZE,)))\n",
    "model.add(BatchNormalization((LAYER_ONE_SIZE,)))\n",
    "model.add(Dropout(0.5))\n",
    "\n",
    "# model.add(Dense(LAYER_ONE_SIZE, LAYER_ONE_SIZE, init='glorot_uniform'))\n",
    "# model.add(PReLU((LAYER_ONE_SIZE,)))\n",
    "# model.add(BatchNormalization((LAYER_ONE_SIZE,)))\n",
    "# model.add(Dropout(0.5))\n",
    "\n",
    "# model.add(Dense(LAYER_ONE_SIZE, LAYER_ONE_SIZE, init='glorot_uniform'))\n",
    "# model.add(PReLU((LAYER_ONE_SIZE,)))\n",
    "# model.add(BatchNormalization((LAYER_ONE_SIZE,)))\n",
    "# model.add(Dropout(0.5))\n",
    "\n",
    "model.add(Dense(LAYER_ONE_SIZE, nb_classes, init='glorot_uniform'))\n",
    "model.add(Activation('softmax'))\n",
    "\n",
    "model.compile(loss='categorical_crossentropy', optimizer=\"adam\")\n",
    "\n",
    "print(\"Training model...\")\n",
    "\n",
    "%time model.fit(x, y, nb_epoch=ITERATIONS, batch_size=128, validation_split=0.15)  "
   ]
  },
  {
   "cell_type": "code",
   "execution_count": 16,
   "metadata": {
    "collapsed": false
   },
   "outputs": [],
   "source": [
    "p_x, p_y = zip(*test_data)\n",
    "\n",
    "p_x = np.array(p_x)\n",
    "p_x = p_x.reshape(10000, 784)\n",
    "\n",
    "p_y = np.array(p_y)\n",
    "p_y = p_y.reshape(10000)"
   ]
  },
  {
   "cell_type": "code",
   "execution_count": 17,
   "metadata": {
    "collapsed": false
   },
   "outputs": [
    {
     "name": "stdout",
     "output_type": "stream",
     "text": [
      "10000/10000 [==============================] - 1s     \n",
      "CPU times: user 1.78 s, sys: 47.6 ms, total: 1.83 s\n",
      "Wall time: 1.59 s\n",
      "[  1.14920814e-05   2.98629700e-06   9.99972756e-01   7.24334432e-06\n",
      "   4.72607638e-09   1.19592658e-07   2.39666688e-06   4.17933766e-09\n",
      "   2.99687912e-06   3.64769792e-10]\n",
      "2\n"
     ]
    }
   ],
   "source": [
    "%time preds = model.predict(p_x)\n",
    "print(preds[1])\n",
    "print(np.argmax(preds[1]))"
   ]
  },
  {
   "cell_type": "code",
   "execution_count": 18,
   "metadata": {
    "collapsed": false
   },
   "outputs": [],
   "source": [
    "pred_idx = [np.argmax(a) for a in preds]"
   ]
  },
  {
   "cell_type": "code",
   "execution_count": 19,
   "metadata": {
    "collapsed": false
   },
   "outputs": [
    {
     "name": "stdout",
     "output_type": "stream",
     "text": [
      "10000\n"
     ]
    }
   ],
   "source": [
    "pairs = zip(pred_idx, p_y)\n",
    "print(len(p_y))"
   ]
  },
  {
   "cell_type": "code",
   "execution_count": 20,
   "metadata": {
    "collapsed": false
   },
   "outputs": [
    {
     "name": "stdout",
     "output_type": "stream",
     "text": [
      "9812\n"
     ]
    }
   ],
   "source": [
    "number_correct = sum([int(a == b) for a, b in pairs])\n",
    "print(number_correct)"
   ]
  },
  {
   "cell_type": "code",
   "execution_count": 21,
   "metadata": {
    "collapsed": false
   },
   "outputs": [
    {
     "name": "stdout",
     "output_type": "stream",
     "text": [
      "188\n"
     ]
    }
   ],
   "source": [
    "number_incorrect = len(p_y) - number_correct\n",
    "print(number_incorrect)"
   ]
  },
  {
   "cell_type": "code",
   "execution_count": 22,
   "metadata": {
    "collapsed": false
   },
   "outputs": [
    {
     "name": "stdout",
     "output_type": "stream",
     "text": [
      "0.98119999990188\n"
     ]
    }
   ],
   "source": [
    "eps = 0.000001  # avoid division by zero\n",
    "success_rate = number_correct / float((number_correct + number_incorrect + eps))\n",
    "print(success_rate)"
   ]
  },
  {
   "cell_type": "code",
   "execution_count": 23,
   "metadata": {
    "collapsed": false
   },
   "outputs": [
    {
     "data": {
      "text/plain": [
       "True"
      ]
     },
     "execution_count": 23,
     "metadata": {},
     "output_type": "execute_result"
    }
   ],
   "source": [
    "4 !=2"
   ]
  },
  {
   "cell_type": "code",
   "execution_count": null,
   "metadata": {
    "collapsed": true
   },
   "outputs": [],
   "source": []
  },
  {
   "cell_type": "code",
   "execution_count": null,
   "metadata": {
    "collapsed": true
   },
   "outputs": [],
   "source": []
  }
 ],
 "metadata": {
  "kernelspec": {
   "display_name": "Python 3",
   "language": "python",
   "name": "python3"
  },
  "language_info": {
   "codemirror_mode": {
    "name": "ipython",
    "version": 3
   },
   "file_extension": ".py",
   "mimetype": "text/x-python",
   "name": "python",
   "nbconvert_exporter": "python",
   "pygments_lexer": "ipython3",
   "version": "3.4.3"
  }
 },
 "nbformat": 4,
 "nbformat_minor": 0
}
