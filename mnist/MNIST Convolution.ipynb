{
 "cells": [
  {
   "cell_type": "code",
   "execution_count": 1,
   "metadata": {
    "collapsed": false
   },
   "outputs": [
    {
     "name": "stdout",
     "output_type": "stream",
     "text": [
      "X_train shape: (60000, 1, 28, 28)\n",
      "60000 train samples\n",
      "10000 test samples\n"
     ]
    }
   ],
   "source": [
    "from __future__ import absolute_import\n",
    "from __future__ import print_function\n",
    "import numpy as np\n",
    "np.random.seed(1337) # for reproducibility\n",
    "\n",
    "from keras.datasets import mnist\n",
    "from keras.models import Sequential\n",
    "from keras.layers.core import Dense, Dropout, Activation, Flatten\n",
    "from keras.layers.convolutional import Convolution2D, MaxPooling2D\n",
    "from keras.utils import np_utils\n",
    "\n",
    "'''\n",
    "    Train a simple convnet on the MNIST dataset.\n",
    "\n",
    "    Run on GPU: THEANO_FLAGS=mode=FAST_RUN,device=gpu,floatX=float32 python mnist_cnn.py\n",
    "\n",
    "    Get to 99.25% test accuracy after 12 epochs (there is still a lot of margin for parameter tuning).\n",
    "    16 seconds per epoch on a GRID K520 GPU.\n",
    "'''\n",
    "\n",
    "batch_size = 128\n",
    "nb_classes = 10\n",
    "nb_epoch = 8\n",
    "\n",
    "# the data, shuffled and split between tran and test sets\n",
    "(X_train, y_train), (X_test, y_test) = mnist.load_data()\n",
    "\n",
    "X_train = X_train.reshape(X_train.shape[0], 1, 28, 28)\n",
    "X_test = X_test.reshape(X_test.shape[0], 1, 28, 28)\n",
    "X_train = X_train.astype(\"float32\")\n",
    "X_test = X_test.astype(\"float32\")\n",
    "X_train /= 255\n",
    "X_test /= 255\n",
    "print('X_train shape:', X_train.shape)\n",
    "print(X_train.shape[0], 'train samples')\n",
    "print(X_test.shape[0], 'test samples')\n",
    "\n",
    "# convert class vectors to binary class matrices\n",
    "Y_train = np_utils.to_categorical(y_train, nb_classes)\n",
    "Y_test = np_utils.to_categorical(y_test, nb_classes)\n",
    "\n",
    "model = Sequential()\n",
    "\n",
    "model.add(Convolution2D(32, 1, 3, 3, border_mode='full')) \n",
    "model.add(Activation('relu'))\n",
    "model.add(Convolution2D(32, 32, 3, 3))\n",
    "model.add(Activation('relu'))\n",
    "model.add(MaxPooling2D(poolsize=(2, 2)))\n",
    "model.add(Dropout(0.25))\n",
    "\n",
    "model.add(Flatten())\n",
    "model.add(Dense(32*196, 128))\n",
    "model.add(Activation('relu'))\n",
    "model.add(Dropout(0.5))\n",
    "\n",
    "model.add(Dense(128, nb_classes))\n",
    "model.add(Activation('softmax'))\n",
    "\n",
    "model.compile(loss='categorical_crossentropy', optimizer='adadelta')\n",
    "\n",
    "\n"
   ]
  },
  {
   "cell_type": "code",
   "execution_count": 2,
   "metadata": {
    "collapsed": false
   },
   "outputs": [
    {
     "name": "stdout",
     "output_type": "stream",
     "text": [
      "Train on 60000 samples, validate on 10000 samples\n",
      "Epoch 0\n",
      "60000/60000 [==============================] - 1557s - loss: 0.3283 - acc.: 0.8968 - val. loss: 0.0662 - val. acc.: 0.9783\n",
      "Epoch 1\n",
      "60000/60000 [==============================] - 1651s - loss: 0.1002 - acc.: 0.9702 - val. loss: 0.0449 - val. acc.: 0.9849\n",
      "Epoch 2\n",
      "60000/60000 [==============================] - 1565s - loss: 0.0730 - acc.: 0.9781 - val. loss: 0.0383 - val. acc.: 0.9874\n",
      "Epoch 3\n",
      "60000/60000 [==============================] - 1597s - loss: 0.0577 - acc.: 0.9825 - val. loss: 0.0304 - val. acc.: 0.9901\n",
      "Epoch 4\n",
      "60000/60000 [==============================] - 1708s - loss: 0.0517 - acc.: 0.9838 - val. loss: 0.0315 - val. acc.: 0.9904\n",
      "Epoch 5\n",
      "60000/60000 [==============================] - 1977s - loss: 0.0467 - acc.: 0.9856 - val. loss: 0.0281 - val. acc.: 0.9911\n",
      "Epoch 6\n",
      "60000/60000 [==============================] - 5044s - loss: 0.0416 - acc.: 0.9878 - val. loss: 0.0290 - val. acc.: 0.9900\n",
      "Epoch 7\n",
      "60000/60000 [==============================] - 1607s - loss: 0.0385 - acc.: 0.9878 - val. loss: 0.0282 - val. acc.: 0.9905\n",
      "Test score: 0.0282068037816\n",
      "Test accuracy: 0.9905\n"
     ]
    }
   ],
   "source": [
    "# This is likely to take upwards of three hours. !\n",
    "model.fit(X_train, Y_train, batch_size=batch_size, nb_epoch=nb_epoch, show_accuracy=True, verbose=1, validation_data=(X_test, Y_test))\n",
    "score = model.evaluate(X_test, Y_test, show_accuracy=True, verbose=0)\n",
    "print('Test score:', score[0])\n",
    "print('Test accuracy:', score[1])"
   ]
  },
  {
   "cell_type": "code",
   "execution_count": 3,
   "metadata": {
    "collapsed": false
   },
   "outputs": [
    {
     "data": {
      "text/plain": [
       "[<keras.layers.convolutional.Convolution2D at 0x108699860>,\n",
       " <keras.layers.core.Activation at 0x108699898>,\n",
       " <keras.layers.convolutional.Convolution2D at 0x1057e7438>,\n",
       " <keras.layers.core.Activation at 0x108860cc0>,\n",
       " <keras.layers.convolutional.MaxPooling2D at 0x108860d68>,\n",
       " <keras.layers.core.Dropout at 0x1088ad128>,\n",
       " <keras.layers.core.Flatten at 0x1088ad240>,\n",
       " <keras.layers.core.Dense at 0x1088ad2b0>,\n",
       " <keras.layers.core.Activation at 0x1088ad1d0>,\n",
       " <keras.layers.core.Dropout at 0x1088ad6a0>,\n",
       " <keras.layers.core.Dense at 0x1088ad710>,\n",
       " <keras.layers.core.Activation at 0x1088ad438>]"
      ]
     },
     "execution_count": 3,
     "metadata": {},
     "output_type": "execute_result"
    }
   ],
   "source": [
    "model.layers"
   ]
  },
  {
   "cell_type": "code",
   "execution_count": 30,
   "metadata": {
    "collapsed": true
   },
   "outputs": [],
   "source": [
    "%matplotlib inline\n",
    "from matplotlib import pyplot as plt\n",
    "def show_layer(layer):\n",
    "    weights = layer.W.eval()\n",
    "    print(weights.shape)\n",
    "    print(weights[0].shape)\n",
    "    plt.imshow(weights[30])"
   ]
  },
  {
   "cell_type": "code",
   "execution_count": 31,
   "metadata": {
    "collapsed": false
   },
   "outputs": [
    {
     "name": "stdout",
     "output_type": "stream",
     "text": [
      "(32, 32, 3, 3)\n",
      "(32, 3, 3)\n"
     ]
    },
    {
     "data": {
      "image/png": "[encoded data removed]",
      "text/plain": [
       "<matplotlib.figure.Figure at 0x10a9edac8>"
      ]
     },
     "metadata": {},
     "output_type": "display_data"
    }
   ],
   "source": [
    "show_layer(model.layers[2])"
   ]
  },
  {
   "cell_type": "code",
   "execution_count": null,
   "metadata": {
    "collapsed": true
   },
   "outputs": [],
   "source": []
  }
 ],
 "metadata": {
  "kernelspec": {
   "display_name": "Python 3",
   "language": "python",
   "name": "python3"
  },
  "language_info": {
   "codemirror_mode": {
    "name": "ipython",
    "version": 3
   },
   "file_extension": ".py",
   "mimetype": "text/x-python",
   "name": "python",
   "nbconvert_exporter": "python",
   "pygments_lexer": "ipython3",
   "version": "3.4.3"
  }
 },
 "nbformat": 4,
 "nbformat_minor": 0
}
