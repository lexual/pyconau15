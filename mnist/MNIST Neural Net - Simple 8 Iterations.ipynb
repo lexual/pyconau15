{
 "cells": [
  {
   "cell_type": "code",
   "execution_count": 1,
   "metadata": {
    "collapsed": false
   },
   "outputs": [],
   "source": [
    "\"\"\"\n",
    "mnist_loader\n",
    "~~~~~~~~~~~~\n",
    "\n",
    "A library to load the MNIST image data.  For details of the data\n",
    "structures that are returned, see the doc strings for ``load_data``\n",
    "and ``load_data_wrapper``.  In practice, ``load_data_wrapper`` is the\n",
    "function usually called by our neural network code.\n",
    "\"\"\"\n",
    "\n",
    "#### Libraries\n",
    "# Standard library\n",
    "import pickle as cPickle  # Sorry, workaround for Python 3.4\n",
    "import gzip\n",
    "\n",
    "# Third-party libraries\n",
    "import numpy as np\n",
    "\n",
    "def load_data():\n",
    "    f = gzip.open('mnist.pkl.gz', 'rb')\n",
    "    training_data, validation_data, test_data = cPickle.load(f, encoding='latin1')  # Make it work with Py3.x\n",
    "    f.close()\n",
    "    return (training_data, validation_data, test_data)\n",
    "\n",
    "def load_data_wrapper():\n",
    "    tr_d, va_d, te_d = load_data()\n",
    "    training_inputs = [np.reshape(x, (784, 1)) for x in tr_d[0]]\n",
    "    training_results = [vectorized_result(y) for y in tr_d[1]]\n",
    "    training_data = zip(training_inputs, training_results)\n",
    "    validation_inputs = [np.reshape(x, (784, 1)) for x in va_d[0]]\n",
    "    validation_data = zip(validation_inputs, va_d[1])\n",
    "    test_inputs = [np.reshape(x, (784, 1)) for x in te_d[0]]\n",
    "    test_data = zip(test_inputs, te_d[1])\n",
    "    return (training_data, validation_data, test_data)\n",
    "\n",
    "def vectorized_result(j):\n",
    "    e = np.zeros((10, 1))\n",
    "    e[j] = 1.0\n",
    "    return e\n"
   ]
  },
  {
   "cell_type": "code",
   "execution_count": 16,
   "metadata": {
    "collapsed": false
   },
   "outputs": [
    {
     "name": "stdout",
     "output_type": "stream",
     "text": [
      "CPU times: user 1.87 s, sys: 751 ms, total: 2.62 s\n",
      "Wall time: 2.71 s\n"
     ]
    }
   ],
   "source": [
    "%time training_data, validation_data, test_data = load_data_wrapper()"
   ]
  },
  {
   "cell_type": "code",
   "execution_count": 6,
   "metadata": {
    "collapsed": false
   },
   "outputs": [
    {
     "name": "stdout",
     "output_type": "stream",
     "text": [
      "CPU times: user 57.2 ms, sys: 48.9 ms, total: 106 ms\n",
      "Wall time: 106 ms\n"
     ]
    }
   ],
   "source": [
    "%time x, y = zip(*training_data)\n",
    "\n",
    "x = np.array(x)\n",
    "x = x.reshape(50000, 784)\n",
    "\n",
    "y = np.array(y)\n",
    "y = y.reshape(50000, 10)"
   ]
  },
  {
   "cell_type": "code",
   "execution_count": 8,
   "metadata": {
    "collapsed": true
   },
   "outputs": [],
   "source": [
    "import keras\n",
    "\n",
    "\n",
    "import numpy as np\n",
    "import pandas as pd\n",
    "\n",
    "from keras.models import Sequential\n",
    "from keras.layers.core import Dense, Dropout, Activation\n",
    "from keras.layers.normalization import BatchNormalization\n",
    "from keras.layers.advanced_activations import PReLU\n",
    "from keras.utils import np_utils, generic_utils\n",
    "\n",
    "from sklearn.preprocessing import StandardScaler\n",
    "\n",
    "np.random.seed(1337) # for reproducibility\n",
    "\n",
    "\n",
    "def preprocess_data(X, scaler=None):\n",
    "    if not scaler:\n",
    "        scaler = StandardScaler()\n",
    "        scaler.fit(X)\n",
    "    X = scaler.transform(X)\n",
    "    return X, scaler\n",
    "\n"
   ]
  },
  {
   "cell_type": "code",
   "execution_count": 9,
   "metadata": {
    "collapsed": false
   },
   "outputs": [
    {
     "name": "stdout",
     "output_type": "stream",
     "text": [
      "10 classes\n",
      "784 dims\n"
     ]
    }
   ],
   "source": [
    " \n",
    "nb_classes = y.shape[1]\n",
    "print(nb_classes, 'classes')\n",
    "\n",
    "dims = x.shape[1]\n",
    "print(dims, 'dims')\n",
    "\n",
    " \n"
   ]
  },
  {
   "cell_type": "code",
   "execution_count": 13,
   "metadata": {
    "collapsed": false
   },
   "outputs": [
    {
     "name": "stdout",
     "output_type": "stream",
     "text": [
      "Building model...\n",
      "Training model...\n",
      "Train on 42500 samples, validate on 7500 samples\n",
      "Epoch 0\n",
      "42500/42500 [==============================] - 18s - loss: 0.4393 - val. loss: 0.1984\n",
      "Epoch 1\n",
      "42500/42500 [==============================] - 19s - loss: 0.1445 - val. loss: 0.1460\n",
      "Epoch 2\n",
      "42500/42500 [==============================] - 20s - loss: 0.1012 - val. loss: 0.1223\n",
      "Epoch 3\n",
      "42500/42500 [==============================] - 19s - loss: 0.0787 - val. loss: 0.1110\n",
      "Epoch 4\n",
      "42500/42500 [==============================] - 18s - loss: 0.0625 - val. loss: 0.1036\n",
      "Epoch 5\n",
      "42500/42500 [==============================] - 19s - loss: 0.0513 - val. loss: 0.0986\n",
      "Epoch 6\n",
      "42500/42500 [==============================] - 22s - loss: 0.0455 - val. loss: 0.0923\n",
      "Epoch 7\n",
      "42500/42500 [==============================] - 23s - loss: 0.0370 - val. loss: 0.0904\n",
      "CPU times: user 3min 30s, sys: 21 s, total: 3min 51s\n",
      "Wall time: 2min 42s\n"
     ]
    },
    {
     "data": {
      "text/plain": [
       "<keras.callbacks.History at 0x11fa31048>"
      ]
     },
     "execution_count": 13,
     "metadata": {},
     "output_type": "execute_result"
    }
   ],
   "source": [
    "\n",
    "print(\"Building model...\")\n",
    "\n",
    "LAYER_ONE_SIZE = 1024\n",
    "\n",
    "model = Sequential()\n",
    "model.add(Dense(dims, LAYER_ONE_SIZE, init='glorot_uniform'))\n",
    "model.add(PReLU((LAYER_ONE_SIZE,)))\n",
    "model.add(BatchNormalization((LAYER_ONE_SIZE,)))\n",
    "model.add(Dropout(0.5))\n",
    "\n",
    "# model.add(Dense(LAYER_ONE_SIZE, LAYER_ONE_SIZE, init='glorot_uniform'))\n",
    "# model.add(PReLU((LAYER_ONE_SIZE,)))\n",
    "# model.add(BatchNormalization((LAYER_ONE_SIZE,)))\n",
    "# model.add(Dropout(0.5))\n",
    "\n",
    "# model.add(Dense(LAYER_ONE_SIZE, LAYER_ONE_SIZE, init='glorot_uniform'))\n",
    "# model.add(PReLU((LAYER_ONE_SIZE,)))\n",
    "# model.add(BatchNormalization((LAYER_ONE_SIZE,)))\n",
    "# model.add(Dropout(0.5))\n",
    "\n",
    "model.add(Dense(LAYER_ONE_SIZE, nb_classes, init='glorot_uniform'))\n",
    "model.add(Activation('softmax'))\n",
    "\n",
    "model.compile(loss='categorical_crossentropy', optimizer=\"adam\")\n",
    "\n",
    "print(\"Training model...\")\n",
    "\n",
    "%time model.fit(x, y, nb_epoch=8, batch_size=128, validation_split=0.15)  "
   ]
  },
  {
   "cell_type": "code",
   "execution_count": 17,
   "metadata": {
    "collapsed": false
   },
   "outputs": [],
   "source": [
    "p_x, p_y = zip(*test_data)\n",
    "\n",
    "p_x = np.array(p_x)\n",
    "p_x = p_x.reshape(10000, 784)\n",
    "\n",
    "p_y = np.array(p_y)\n",
    "p_y = p_y.reshape(10000)"
   ]
  },
  {
   "cell_type": "code",
   "execution_count": 19,
   "metadata": {
    "collapsed": false
   },
   "outputs": [
    {
     "name": "stdout",
     "output_type": "stream",
     "text": [
      "10000/10000 [==============================] - 1s     \n",
      "CPU times: user 1.86 s, sys: 57.5 ms, total: 1.92 s\n",
      "Wall time: 1.13 s\n",
      "[  8.49545880e-05   1.98081166e-05   9.99864031e-01   9.35905320e-06\n",
      "   3.46804955e-09   5.81769650e-07   6.40576057e-06   1.79009542e-08\n",
      "   1.48370155e-05   1.73423005e-09]\n",
      "2\n"
     ]
    }
   ],
   "source": [
    "%time preds = model.predict(p_x)\n",
    "print(preds[1])\n",
    "print(np.argmax(preds[1]))"
   ]
  },
  {
   "cell_type": "code",
   "execution_count": 21,
   "metadata": {
    "collapsed": false
   },
   "outputs": [],
   "source": [
    "pred_idx = [np.argmax(a) for a in preds]"
   ]
  },
  {
   "cell_type": "code",
   "execution_count": 27,
   "metadata": {
    "collapsed": false
   },
   "outputs": [
    {
     "name": "stdout",
     "output_type": "stream",
     "text": [
      "10000\n"
     ]
    }
   ],
   "source": [
    "pairs = zip(pred_idx, p_y)\n",
    "print(len(p_y))"
   ]
  },
  {
   "cell_type": "code",
   "execution_count": 23,
   "metadata": {
    "collapsed": false
   },
   "outputs": [
    {
     "name": "stdout",
     "output_type": "stream",
     "text": [
      "9789\n"
     ]
    }
   ],
   "source": [
    "number_correct = sum([int(a == b) for a, b in pairs])\n",
    "print(number_correct)"
   ]
  },
  {
   "cell_type": "code",
   "execution_count": 32,
   "metadata": {
    "collapsed": false
   },
   "outputs": [
    {
     "name": "stdout",
     "output_type": "stream",
     "text": [
      "211\n"
     ]
    }
   ],
   "source": [
    "number_incorrect = len(p_y) - number_correct\n",
    "print(number_incorrect)"
   ]
  },
  {
   "cell_type": "code",
   "execution_count": 33,
   "metadata": {
    "collapsed": false
   },
   "outputs": [
    {
     "name": "stdout",
     "output_type": "stream",
     "text": [
      "0.97889999990211\n"
     ]
    }
   ],
   "source": [
    "eps = 0.000001  # avoid division by zero\n",
    "success_rate = number_correct / float((number_correct + number_incorrect + eps))\n",
    "print(success_rate)"
   ]
  },
  {
   "cell_type": "code",
   "execution_count": 31,
   "metadata": {
    "collapsed": false
   },
   "outputs": [
    {
     "data": {
      "text/plain": [
       "True"
      ]
     },
     "execution_count": 31,
     "metadata": {},
     "output_type": "execute_result"
    }
   ],
   "source": [
    "4 !=2"
   ]
  },
  {
   "cell_type": "code",
   "execution_count": null,
   "metadata": {
    "collapsed": true
   },
   "outputs": [],
   "source": []
  }
 ],
 "metadata": {
  "kernelspec": {
   "display_name": "Python 3",
   "language": "python",
   "name": "python3"
  },
  "language_info": {
   "codemirror_mode": {
    "name": "ipython",
    "version": 3
   },
   "file_extension": ".py",
   "mimetype": "text/x-python",
   "name": "python",
   "nbconvert_exporter": "python",
   "pygments_lexer": "ipython3",
   "version": "3.4.3"
  }
 },
 "nbformat": 4,
 "nbformat_minor": 0
}
